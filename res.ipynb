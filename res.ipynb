{
 "cells": [
  {
   "cell_type": "code",
   "execution_count": 10,
   "metadata": {},
   "outputs": [],
   "source": [
    "import pandas as pd\n",
    "import numpy as np\n",
    "\n",
    "from eval_ithor.objects import total\n",
    "df = pd.read_csv('./res/val_0_0_2/out.csv')"
   ]
  },
  {
   "cell_type": "code",
   "execution_count": 11,
   "metadata": {},
   "outputs": [
    {
     "data": {
      "text/html": "<div>\n<style scoped>\n    .dataframe tbody tr th:only-of-type {\n        vertical-align: middle;\n    }\n\n    .dataframe tbody tr th {\n        vertical-align: top;\n    }\n\n    .dataframe thead th {\n        text-align: right;\n    }\n</style>\n<table border=\"1\" class=\"dataframe\">\n  <thead>\n    <tr style=\"text-align: right;\">\n      <th></th>\n      <th>Unnamed: 0</th>\n      <th>score</th>\n      <th>query_name</th>\n      <th>scene_name</th>\n    </tr>\n  </thead>\n  <tbody>\n    <tr>\n      <th>0</th>\n      <td>0</td>\n      <td>0.641962</td>\n      <td>Apple</td>\n      <td>FloorPlan_Train8_1</td>\n    </tr>\n    <tr>\n      <th>1</th>\n      <td>1</td>\n      <td>0.600655</td>\n      <td>Bowl</td>\n      <td>FloorPlan_Train8_1</td>\n    </tr>\n    <tr>\n      <th>2</th>\n      <td>2</td>\n      <td>0.999998</td>\n      <td>AlarmClock</td>\n      <td>FloorPlan_Train8_1</td>\n    </tr>\n    <tr>\n      <th>3</th>\n      <td>3</td>\n      <td>0.000000</td>\n      <td>RemoteControl</td>\n      <td>FloorPlan_Train8_1</td>\n    </tr>\n    <tr>\n      <th>4</th>\n      <td>4</td>\n      <td>0.483921</td>\n      <td>Pillow</td>\n      <td>FloorPlan_Train8_1</td>\n    </tr>\n    <tr>\n      <th>...</th>\n      <td>...</td>\n      <td>...</td>\n      <td>...</td>\n      <td>...</td>\n    </tr>\n    <tr>\n      <th>65</th>\n      <td>65</td>\n      <td>0.284210</td>\n      <td>TeddyBear</td>\n      <td>FloorPlan_Train5_1</td>\n    </tr>\n    <tr>\n      <th>66</th>\n      <td>66</td>\n      <td>0.141723</td>\n      <td>CellPhone</td>\n      <td>FloorPlan_Train5_1</td>\n    </tr>\n    <tr>\n      <th>67</th>\n      <td>67</td>\n      <td>0.374768</td>\n      <td>AlarmClock</td>\n      <td>FloorPlan_Train5_1</td>\n    </tr>\n    <tr>\n      <th>68</th>\n      <td>68</td>\n      <td>0.174505</td>\n      <td>SprayBottle</td>\n      <td>FloorPlan_Train5_1</td>\n    </tr>\n    <tr>\n      <th>69</th>\n      <td>69</td>\n      <td>0.000000</td>\n      <td>Bowl</td>\n      <td>FloorPlan_Train5_1</td>\n    </tr>\n  </tbody>\n</table>\n<p>70 rows × 4 columns</p>\n</div>",
      "text/plain": "    Unnamed: 0     score     query_name          scene_name\n0            0  0.641962          Apple  FloorPlan_Train8_1\n1            1  0.600655           Bowl  FloorPlan_Train8_1\n2            2  0.999998     AlarmClock  FloorPlan_Train8_1\n3            3  0.000000  RemoteControl  FloorPlan_Train8_1\n4            4  0.483921         Pillow  FloorPlan_Train8_1\n..         ...       ...            ...                 ...\n65          65  0.284210      TeddyBear  FloorPlan_Train5_1\n66          66  0.141723      CellPhone  FloorPlan_Train5_1\n67          67  0.374768     AlarmClock  FloorPlan_Train5_1\n68          68  0.174505    SprayBottle  FloorPlan_Train5_1\n69          69  0.000000           Bowl  FloorPlan_Train5_1\n\n[70 rows x 4 columns]"
     },
     "execution_count": 11,
     "metadata": {},
     "output_type": "execute_result"
    }
   ],
   "source": [
    "df"
   ]
  },
  {
   "cell_type": "code",
   "execution_count": 12,
   "metadata": {},
   "outputs": [],
   "source": [
    "obj_score = []\n",
    "\n",
    "for obj in total:\n",
    "    temp = df.loc[df['query_name'] == obj, ['score']]\n",
    "    temp = np.clip(temp,0,1)\n",
    "    mean_score = temp.mean().item()\n",
    "    mean_score = np.nan_to_num(mean_score,nan=100)\n",
    "    if mean_score != 100:\n",
    "        success_rate = (temp>0).sum().item()/(len(temp))\n",
    "        obj_score.append(dict(object=obj,SPL=mean_score,success_rate = success_rate ))\n",
    "obj_score = pd.DataFrame(obj_score)"
   ]
  },
  {
   "cell_type": "code",
   "execution_count": 13,
   "metadata": {},
   "outputs": [
    {
     "data": {
      "text/html": "<div>\n<style scoped>\n    .dataframe tbody tr th:only-of-type {\n        vertical-align: middle;\n    }\n\n    .dataframe tbody tr th {\n        vertical-align: top;\n    }\n\n    .dataframe thead th {\n        text-align: right;\n    }\n</style>\n<table border=\"1\" class=\"dataframe\">\n  <thead>\n    <tr style=\"text-align: right;\">\n      <th></th>\n      <th>object</th>\n      <th>SPL</th>\n      <th>success_rate</th>\n    </tr>\n  </thead>\n  <tbody>\n    <tr>\n      <th>0</th>\n      <td>CellPhone</td>\n      <td>0.267356</td>\n      <td>1.000000</td>\n    </tr>\n    <tr>\n      <th>1</th>\n      <td>Apple</td>\n      <td>0.343731</td>\n      <td>1.000000</td>\n    </tr>\n    <tr>\n      <th>2</th>\n      <td>SprayBottle</td>\n      <td>0.493573</td>\n      <td>0.857143</td>\n    </tr>\n    <tr>\n      <th>3</th>\n      <td>Pot</td>\n      <td>0.509723</td>\n      <td>1.000000</td>\n    </tr>\n    <tr>\n      <th>4</th>\n      <td>Book</td>\n      <td>0.303489</td>\n      <td>1.000000</td>\n    </tr>\n    <tr>\n      <th>5</th>\n      <td>Bowl</td>\n      <td>0.380570</td>\n      <td>0.857143</td>\n    </tr>\n    <tr>\n      <th>6</th>\n      <td>RemoteControl</td>\n      <td>0.264787</td>\n      <td>0.714286</td>\n    </tr>\n    <tr>\n      <th>7</th>\n      <td>AlarmClock</td>\n      <td>0.281816</td>\n      <td>0.714286</td>\n    </tr>\n    <tr>\n      <th>8</th>\n      <td>CD</td>\n      <td>0.867960</td>\n      <td>1.000000</td>\n    </tr>\n    <tr>\n      <th>9</th>\n      <td>TeddyBear</td>\n      <td>0.284210</td>\n      <td>1.000000</td>\n    </tr>\n    <tr>\n      <th>10</th>\n      <td>Pillow</td>\n      <td>0.489811</td>\n      <td>1.000000</td>\n    </tr>\n    <tr>\n      <th>11</th>\n      <td>Laptop</td>\n      <td>0.453009</td>\n      <td>1.000000</td>\n    </tr>\n  </tbody>\n</table>\n</div>",
      "text/plain": "           object       SPL  success_rate\n0       CellPhone  0.267356      1.000000\n1           Apple  0.343731      1.000000\n2     SprayBottle  0.493573      0.857143\n3             Pot  0.509723      1.000000\n4            Book  0.303489      1.000000\n5            Bowl  0.380570      0.857143\n6   RemoteControl  0.264787      0.714286\n7      AlarmClock  0.281816      0.714286\n8              CD  0.867960      1.000000\n9       TeddyBear  0.284210      1.000000\n10         Pillow  0.489811      1.000000\n11         Laptop  0.453009      1.000000"
     },
     "execution_count": 13,
     "metadata": {},
     "output_type": "execute_result"
    }
   ],
   "source": [
    "obj_score"
   ]
  },
  {
   "cell_type": "code",
   "execution_count": 14,
   "metadata": {},
   "outputs": [],
   "source": [
    "spl = df['score'].to_numpy()\n",
    "spl = np.clip(spl,a_min=0,a_max=1)\n",
    "success = (spl>0)\n",
    "mean_spl = spl.mean()\n",
    "mean_success = success.mean()\n",
    "temp = pd.DataFrame([dict(object='Average',SPL=mean_spl,success_rate=mean_success)])\n",
    "total_obj_score = pd.concat((obj_score,temp))"
   ]
  },
  {
   "cell_type": "code",
   "execution_count": 15,
   "metadata": {},
   "outputs": [
    {
     "data": {
      "text/html": "<div>\n<style scoped>\n    .dataframe tbody tr th:only-of-type {\n        vertical-align: middle;\n    }\n\n    .dataframe tbody tr th {\n        vertical-align: top;\n    }\n\n    .dataframe thead th {\n        text-align: right;\n    }\n</style>\n<table border=\"1\" class=\"dataframe\">\n  <thead>\n    <tr style=\"text-align: right;\">\n      <th></th>\n      <th>object</th>\n      <th>SPL</th>\n      <th>success_rate</th>\n    </tr>\n  </thead>\n  <tbody>\n    <tr>\n      <th>0</th>\n      <td>CellPhone</td>\n      <td>0.267356</td>\n      <td>1.000000</td>\n    </tr>\n    <tr>\n      <th>1</th>\n      <td>Apple</td>\n      <td>0.343731</td>\n      <td>1.000000</td>\n    </tr>\n    <tr>\n      <th>2</th>\n      <td>SprayBottle</td>\n      <td>0.493573</td>\n      <td>0.857143</td>\n    </tr>\n    <tr>\n      <th>3</th>\n      <td>Pot</td>\n      <td>0.509723</td>\n      <td>1.000000</td>\n    </tr>\n    <tr>\n      <th>4</th>\n      <td>Book</td>\n      <td>0.303489</td>\n      <td>1.000000</td>\n    </tr>\n    <tr>\n      <th>5</th>\n      <td>Bowl</td>\n      <td>0.380570</td>\n      <td>0.857143</td>\n    </tr>\n    <tr>\n      <th>6</th>\n      <td>RemoteControl</td>\n      <td>0.264787</td>\n      <td>0.714286</td>\n    </tr>\n    <tr>\n      <th>7</th>\n      <td>AlarmClock</td>\n      <td>0.281816</td>\n      <td>0.714286</td>\n    </tr>\n    <tr>\n      <th>8</th>\n      <td>CD</td>\n      <td>0.867960</td>\n      <td>1.000000</td>\n    </tr>\n    <tr>\n      <th>9</th>\n      <td>TeddyBear</td>\n      <td>0.284210</td>\n      <td>1.000000</td>\n    </tr>\n    <tr>\n      <th>10</th>\n      <td>Pillow</td>\n      <td>0.489811</td>\n      <td>1.000000</td>\n    </tr>\n    <tr>\n      <th>11</th>\n      <td>Laptop</td>\n      <td>0.453009</td>\n      <td>1.000000</td>\n    </tr>\n    <tr>\n      <th>0</th>\n      <td>Average</td>\n      <td>0.382231</td>\n      <td>0.914286</td>\n    </tr>\n  </tbody>\n</table>\n</div>",
      "text/plain": "           object       SPL  success_rate\n0       CellPhone  0.267356      1.000000\n1           Apple  0.343731      1.000000\n2     SprayBottle  0.493573      0.857143\n3             Pot  0.509723      1.000000\n4            Book  0.303489      1.000000\n5            Bowl  0.380570      0.857143\n6   RemoteControl  0.264787      0.714286\n7      AlarmClock  0.281816      0.714286\n8              CD  0.867960      1.000000\n9       TeddyBear  0.284210      1.000000\n10         Pillow  0.489811      1.000000\n11         Laptop  0.453009      1.000000\n0         Average  0.382231      0.914286"
     },
     "execution_count": 15,
     "metadata": {},
     "output_type": "execute_result"
    }
   ],
   "source": [
    "total_obj_score"
   ]
  },
  {
   "cell_type": "code",
   "execution_count": 8,
   "metadata": {},
   "outputs": [],
   "source": [
    "scene_score = []\n",
    "total = ['FloorPlan_Train1_2', 'FloorPlan_Train10_4','FloorPlan_Train9_1',\n",
    "    'FloorPlan_Train2_3','FloorPlan_Train5_1', 'FloorPlan_Train8_1','FloorPlan_Train6_2']\n",
    "for obj in total:\n",
    "    temp = df.loc[df['scene_name'] == obj, ['score']]\n",
    "    temp = np.clip(temp,0,1)\n",
    "    mean_score = temp.mean().item()\n",
    "    mean_score = np.nan_to_num(mean_score,nan=100)\n",
    "    if mean_score != 100:\n",
    "        success_rate = (temp>0).sum().item()/(len(temp))\n",
    "        scene_score.append(dict(scene=obj,SPL=mean_score,success_rate = success_rate ))\n",
    "scene_score = pd.DataFrame(scene_score)"
   ]
  },
  {
   "cell_type": "code",
   "execution_count": 9,
   "metadata": {},
   "outputs": [
    {
     "data": {
      "text/html": "<div>\n<style scoped>\n    .dataframe tbody tr th:only-of-type {\n        vertical-align: middle;\n    }\n\n    .dataframe tbody tr th {\n        vertical-align: top;\n    }\n\n    .dataframe thead th {\n        text-align: right;\n    }\n</style>\n<table border=\"1\" class=\"dataframe\">\n  <thead>\n    <tr style=\"text-align: right;\">\n      <th></th>\n      <th>scene</th>\n      <th>SPL</th>\n      <th>success_rate</th>\n    </tr>\n  </thead>\n  <tbody>\n    <tr>\n      <th>0</th>\n      <td>FloorPlan_Train1_2</td>\n      <td>0.520294</td>\n      <td>0.888889</td>\n    </tr>\n    <tr>\n      <th>1</th>\n      <td>FloorPlan_Train10_4</td>\n      <td>0.337581</td>\n      <td>0.777778</td>\n    </tr>\n    <tr>\n      <th>2</th>\n      <td>FloorPlan_Train9_1</td>\n      <td>0.405455</td>\n      <td>1.000000</td>\n    </tr>\n    <tr>\n      <th>3</th>\n      <td>FloorPlan_Train2_3</td>\n      <td>0.563280</td>\n      <td>0.866667</td>\n    </tr>\n    <tr>\n      <th>4</th>\n      <td>FloorPlan_Train5_1</td>\n      <td>0.189776</td>\n      <td>0.785714</td>\n    </tr>\n    <tr>\n      <th>5</th>\n      <td>FloorPlan_Train6_2</td>\n      <td>0.369854</td>\n      <td>0.857143</td>\n    </tr>\n  </tbody>\n</table>\n</div>",
      "text/plain": "                 scene       SPL  success_rate\n0   FloorPlan_Train1_2  0.520294      0.888889\n1  FloorPlan_Train10_4  0.337581      0.777778\n2   FloorPlan_Train9_1  0.405455      1.000000\n3   FloorPlan_Train2_3  0.563280      0.866667\n4   FloorPlan_Train5_1  0.189776      0.785714\n5   FloorPlan_Train6_2  0.369854      0.857143"
     },
     "execution_count": 9,
     "metadata": {},
     "output_type": "execute_result"
    }
   ],
   "source": [
    "scene_score"
   ]
  },
  {
   "cell_type": "code",
   "execution_count": 9,
   "metadata": {},
   "outputs": [],
   "source": [
    "from co_occurance.fliker import fliker_knowledge"
   ]
  },
  {
   "cell_type": "code",
   "execution_count": 10,
   "metadata": {},
   "outputs": [
    {
     "name": "stdout",
     "output_type": "stream",
     "text": [
      "bed on\n",
      "1478213\n",
      "bed remote%20control\n",
      "1905\n",
      "0.0012887182023159044\n",
      "bed laptop\n",
      "6562\n",
      "0.004439143749919667\n",
      "bed book\n",
      "185552\n",
      "0.12552453536804237\n",
      "bed apple\n",
      "15016\n",
      "0.010158211299724735\n",
      "bed CD\n",
      "4630\n",
      "0.0031321602502481036\n",
      "dining%20table on\n",
      "2472405\n",
      "dining%20table remote%20control\n",
      "265\n",
      "0.00010718308691334956\n",
      "dining%20table laptop\n",
      "1973\n",
      "0.0007980084169058063\n",
      "dining%20table book\n",
      "12809\n",
      "0.005180785510464507\n",
      "dining%20table apple\n",
      "4244\n",
      "0.001716547248529266\n",
      "dining%20table CD\n",
      "1177\n",
      "0.0004760546916868393\n",
      "stove on\n",
      "154162\n",
      "stove remote%20control\n",
      "264\n",
      "0.0017124842697941126\n",
      "stove laptop\n",
      "888\n",
      "0.005760174362034742\n",
      "stove book\n",
      "24216\n",
      "0.15708151165656906\n",
      "stove apple\n",
      "2740\n",
      "0.01777351098195405\n",
      "stove CD\n",
      "437\n",
      "0.002834680401136467\n",
      "toilet on\n",
      "279354\n",
      "toilet remote%20control\n",
      "533\n",
      "0.001907973395763082\n",
      "toilet laptop\n",
      "576\n",
      "0.0020618999548959386\n",
      "toilet book\n",
      "14206\n",
      "0.05085303951258976\n",
      "toilet apple\n",
      "1839\n",
      "0.0065830451684958866\n",
      "toilet CD\n",
      "813\n",
      "0.0029102858738374966\n",
      "sink on\n"
     ]
    }
   ],
   "source": [
    "landmark_names = ['Bed', 'DiningTable', 'StoveBurner', 'Toilet', 'Sink', 'Desk','Drawer','Shelf',\n",
    "                        'CounterTop','Television','Sofa','SideTable','CoffeeTable',\n",
    "                        'ShelvingUnit','ArmChair','TVStand']\n",
    "\n",
    "object_names = ['RemoteControl','Laptop','Book','Apple','CD']\n",
    "f = fliker_knowledge(landmark_names,object_names)\n"
   ]
  },
  {
   "cell_type": "code",
   "execution_count": null,
   "metadata": {},
   "outputs": [],
   "source": [
    "import pandas as pd\n",
    "m = f.co_matrix\n",
    "df = pd.DataFrame(m.T)\n",
    "df.columns = landmark_names\n",
    "df.index = object_names"
   ]
  },
  {
   "cell_type": "code",
   "execution_count": null,
   "metadata": {},
   "outputs": [],
   "source": [
    "df"
   ]
  },
  {
   "cell_type": "code",
   "execution_count": null,
   "metadata": {},
   "outputs": [],
   "source": [
    "m"
   ]
  },
  {
   "cell_type": "code",
   "execution_count": null,
   "metadata": {},
   "outputs": [],
   "source": []
  }
 ],
 "metadata": {
  "interpreter": {
   "hash": "fc7b75c948a016bde1fa94b064e92e980ae852ecbf5a54007f63176ab55ebd6d"
  },
  "kernelspec": {
   "display_name": "Python 3.8.8 64-bit ('ai2thor_test')",
   "name": "python388jvsc74a57bd013cd274158ba76f6a10b65be5696c6adfaef82782a391440249ecce6fcef4c3b"
  },
  "language_info": {
   "name": "python",
   "version": ""
  },
  "orig_nbformat": 2
 },
 "nbformat": 4,
 "nbformat_minor": 2
}