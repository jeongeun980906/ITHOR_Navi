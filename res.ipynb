{
 "cells": [
  {
   "cell_type": "code",
   "execution_count": 1,
   "metadata": {},
   "outputs": [],
   "source": [
    "import pandas as pd\n",
    "import numpy as np\n",
    "\n",
    "from eval_ithor.objects import total\n",
    "df = pd.read_csv('./res/0_0_2/out.csv')"
   ]
  },
  {
   "cell_type": "code",
   "execution_count": 2,
   "metadata": {},
   "outputs": [
    {
     "data": {
      "text/html": "<div>\n<style scoped>\n    .dataframe tbody tr th:only-of-type {\n        vertical-align: middle;\n    }\n\n    .dataframe tbody tr th {\n        vertical-align: top;\n    }\n\n    .dataframe thead th {\n        text-align: right;\n    }\n</style>\n<table border=\"1\" class=\"dataframe\">\n  <thead>\n    <tr style=\"text-align: right;\">\n      <th></th>\n      <th>Unnamed: 0</th>\n      <th>score</th>\n      <th>query_name</th>\n      <th>scene_name</th>\n    </tr>\n  </thead>\n  <tbody>\n    <tr>\n      <th>0</th>\n      <td>0</td>\n      <td>1.337601</td>\n      <td>Apple</td>\n      <td>FloorPlan_Train8_1</td>\n    </tr>\n    <tr>\n      <th>1</th>\n      <td>1</td>\n      <td>0.999997</td>\n      <td>AlarmClock</td>\n      <td>FloorPlan_Train8_1</td>\n    </tr>\n    <tr>\n      <th>2</th>\n      <td>2</td>\n      <td>0.000000</td>\n      <td>RemoteControl</td>\n      <td>FloorPlan_Train8_1</td>\n    </tr>\n    <tr>\n      <th>3</th>\n      <td>3</td>\n      <td>0.224713</td>\n      <td>Pillow</td>\n      <td>FloorPlan_Train8_1</td>\n    </tr>\n    <tr>\n      <th>4</th>\n      <td>4</td>\n      <td>0.211572</td>\n      <td>Laptop</td>\n      <td>FloorPlan_Train8_1</td>\n    </tr>\n    <tr>\n      <th>...</th>\n      <td>...</td>\n      <td>...</td>\n      <td>...</td>\n      <td>...</td>\n    </tr>\n    <tr>\n      <th>94</th>\n      <td>94</td>\n      <td>0.827590</td>\n      <td>Pot</td>\n      <td>FloorPlan_Train2_2</td>\n    </tr>\n    <tr>\n      <th>95</th>\n      <td>95</td>\n      <td>0.000000</td>\n      <td>RemoteControl</td>\n      <td>FloorPlan_Train2_2</td>\n    </tr>\n    <tr>\n      <th>96</th>\n      <td>96</td>\n      <td>0.000000</td>\n      <td>CD</td>\n      <td>FloorPlan_Train2_2</td>\n    </tr>\n    <tr>\n      <th>97</th>\n      <td>97</td>\n      <td>0.272555</td>\n      <td>Apple</td>\n      <td>FloorPlan_Train2_2</td>\n    </tr>\n    <tr>\n      <th>98</th>\n      <td>98</td>\n      <td>0.262385</td>\n      <td>Mug</td>\n      <td>FloorPlan_Train2_2</td>\n    </tr>\n  </tbody>\n</table>\n<p>99 rows × 4 columns</p>\n</div>",
      "text/plain": "    Unnamed: 0     score     query_name          scene_name\n0            0  1.337601          Apple  FloorPlan_Train8_1\n1            1  0.999997     AlarmClock  FloorPlan_Train8_1\n2            2  0.000000  RemoteControl  FloorPlan_Train8_1\n3            3  0.224713         Pillow  FloorPlan_Train8_1\n4            4  0.211572         Laptop  FloorPlan_Train8_1\n..         ...       ...            ...                 ...\n94          94  0.827590            Pot  FloorPlan_Train2_2\n95          95  0.000000  RemoteControl  FloorPlan_Train2_2\n96          96  0.000000             CD  FloorPlan_Train2_2\n97          97  0.272555          Apple  FloorPlan_Train2_2\n98          98  0.262385            Mug  FloorPlan_Train2_2\n\n[99 rows x 4 columns]"
     },
     "execution_count": 2,
     "metadata": {},
     "output_type": "execute_result"
    }
   ],
   "source": [
    "df"
   ]
  },
  {
   "cell_type": "code",
   "execution_count": 8,
   "metadata": {},
   "outputs": [],
   "source": [
    "obj_score = []\n",
    "\n",
    "for obj in total:\n",
    "    temp = df.loc[df['query_name'] == obj, ['score']]\n",
    "    temp = np.clip(temp,0,1)\n",
    "    mean_score = temp.mean().item()\n",
    "    mean_score = np.nan_to_num(mean_score,nan=100)\n",
    "    if mean_score != 100:\n",
    "        success_rate = (temp>0).sum().item()/(len(temp))\n",
    "        obj_score.append(dict(object=obj,SPL=mean_score,success_rate = success_rate ))\n",
    "obj_score = pd.DataFrame(obj_score)"
   ]
  },
  {
   "cell_type": "code",
   "execution_count": 4,
   "metadata": {},
   "outputs": [
    {
     "data": {
      "text/html": "<div>\n<style scoped>\n    .dataframe tbody tr th:only-of-type {\n        vertical-align: middle;\n    }\n\n    .dataframe tbody tr th {\n        vertical-align: top;\n    }\n\n    .dataframe thead th {\n        text-align: right;\n    }\n</style>\n<table border=\"1\" class=\"dataframe\">\n  <thead>\n    <tr style=\"text-align: right;\">\n      <th></th>\n      <th>object</th>\n      <th>SPL</th>\n      <th>success_rate</th>\n    </tr>\n  </thead>\n  <tbody>\n    <tr>\n      <th>0</th>\n      <td>SprayBottle</td>\n      <td>0.501064</td>\n      <td>0.700000</td>\n    </tr>\n    <tr>\n      <th>1</th>\n      <td>Apple</td>\n      <td>0.458266</td>\n      <td>0.800000</td>\n    </tr>\n    <tr>\n      <th>2</th>\n      <td>RemoteControl</td>\n      <td>0.205430</td>\n      <td>0.300000</td>\n    </tr>\n    <tr>\n      <th>3</th>\n      <td>Book</td>\n      <td>0.290403</td>\n      <td>0.714286</td>\n    </tr>\n    <tr>\n      <th>4</th>\n      <td>Pot</td>\n      <td>0.605049</td>\n      <td>0.833333</td>\n    </tr>\n    <tr>\n      <th>5</th>\n      <td>PepperShaker</td>\n      <td>1.000000</td>\n      <td>1.000000</td>\n    </tr>\n    <tr>\n      <th>6</th>\n      <td>Mug</td>\n      <td>0.474938</td>\n      <td>0.900000</td>\n    </tr>\n    <tr>\n      <th>7</th>\n      <td>TeddyBear</td>\n      <td>0.973361</td>\n      <td>1.000000</td>\n    </tr>\n    <tr>\n      <th>8</th>\n      <td>Pillow</td>\n      <td>0.704097</td>\n      <td>1.000000</td>\n    </tr>\n    <tr>\n      <th>9</th>\n      <td>Laptop</td>\n      <td>0.282386</td>\n      <td>0.500000</td>\n    </tr>\n    <tr>\n      <th>10</th>\n      <td>AlarmClock</td>\n      <td>0.397934</td>\n      <td>0.500000</td>\n    </tr>\n    <tr>\n      <th>11</th>\n      <td>CD</td>\n      <td>0.500000</td>\n      <td>0.500000</td>\n    </tr>\n    <tr>\n      <th>12</th>\n      <td>CellPhone</td>\n      <td>0.294244</td>\n      <td>0.400000</td>\n    </tr>\n  </tbody>\n</table>\n</div>",
      "text/plain": "           object       SPL  success_rate\n0     SprayBottle  0.501064      0.700000\n1           Apple  0.458266      0.800000\n2   RemoteControl  0.205430      0.300000\n3            Book  0.290403      0.714286\n4             Pot  0.605049      0.833333\n5    PepperShaker  1.000000      1.000000\n6             Mug  0.474938      0.900000\n7       TeddyBear  0.973361      1.000000\n8          Pillow  0.704097      1.000000\n9          Laptop  0.282386      0.500000\n10     AlarmClock  0.397934      0.500000\n11             CD  0.500000      0.500000\n12      CellPhone  0.294244      0.400000"
     },
     "execution_count": 4,
     "metadata": {},
     "output_type": "execute_result"
    }
   ],
   "source": [
    "obj_score"
   ]
  },
  {
   "cell_type": "code",
   "execution_count": 31,
   "metadata": {},
   "outputs": [],
   "source": [
    "spl = df['score'].to_numpy()\n",
    "spl = np.clip(spl,a_min=0,a_max=1)\n",
    "success = (spl>0)\n",
    "mean_spl = spl.mean()\n",
    "mean_success = success.mean()\n",
    "temp = pd.DataFrame([dict(object='Average',SPL=mean_spl,success_rate=mean_success)])\n",
    "total_obj_score = pd.concat((obj_score,temp))"
   ]
  },
  {
   "cell_type": "code",
   "execution_count": 32,
   "metadata": {},
   "outputs": [
    {
     "data": {
      "text/html": "<div>\n<style scoped>\n    .dataframe tbody tr th:only-of-type {\n        vertical-align: middle;\n    }\n\n    .dataframe tbody tr th {\n        vertical-align: top;\n    }\n\n    .dataframe thead th {\n        text-align: right;\n    }\n</style>\n<table border=\"1\" class=\"dataframe\">\n  <thead>\n    <tr style=\"text-align: right;\">\n      <th></th>\n      <th>object</th>\n      <th>SPL</th>\n      <th>success_rate</th>\n    </tr>\n  </thead>\n  <tbody>\n    <tr>\n      <th>0</th>\n      <td>SprayBottle</td>\n      <td>0.501064</td>\n      <td>0.700000</td>\n    </tr>\n    <tr>\n      <th>1</th>\n      <td>Apple</td>\n      <td>0.458266</td>\n      <td>0.800000</td>\n    </tr>\n    <tr>\n      <th>2</th>\n      <td>RemoteControl</td>\n      <td>0.205430</td>\n      <td>0.300000</td>\n    </tr>\n    <tr>\n      <th>3</th>\n      <td>Book</td>\n      <td>0.290403</td>\n      <td>0.714286</td>\n    </tr>\n    <tr>\n      <th>4</th>\n      <td>Pot</td>\n      <td>0.605049</td>\n      <td>0.833333</td>\n    </tr>\n    <tr>\n      <th>5</th>\n      <td>PepperShaker</td>\n      <td>1.000000</td>\n      <td>1.000000</td>\n    </tr>\n    <tr>\n      <th>6</th>\n      <td>Mug</td>\n      <td>0.474938</td>\n      <td>0.900000</td>\n    </tr>\n    <tr>\n      <th>7</th>\n      <td>TeddyBear</td>\n      <td>0.973361</td>\n      <td>1.000000</td>\n    </tr>\n    <tr>\n      <th>8</th>\n      <td>Pillow</td>\n      <td>0.704097</td>\n      <td>1.000000</td>\n    </tr>\n    <tr>\n      <th>9</th>\n      <td>Laptop</td>\n      <td>0.282386</td>\n      <td>0.500000</td>\n    </tr>\n    <tr>\n      <th>10</th>\n      <td>AlarmClock</td>\n      <td>0.397934</td>\n      <td>0.500000</td>\n    </tr>\n    <tr>\n      <th>11</th>\n      <td>CD</td>\n      <td>0.500000</td>\n      <td>0.500000</td>\n    </tr>\n    <tr>\n      <th>12</th>\n      <td>CellPhone</td>\n      <td>0.294244</td>\n      <td>0.400000</td>\n    </tr>\n    <tr>\n      <th>0</th>\n      <td>Average</td>\n      <td>0.428098</td>\n      <td>0.676768</td>\n    </tr>\n  </tbody>\n</table>\n</div>",
      "text/plain": "           object       SPL  success_rate\n0     SprayBottle  0.501064      0.700000\n1           Apple  0.458266      0.800000\n2   RemoteControl  0.205430      0.300000\n3            Book  0.290403      0.714286\n4             Pot  0.605049      0.833333\n5    PepperShaker  1.000000      1.000000\n6             Mug  0.474938      0.900000\n7       TeddyBear  0.973361      1.000000\n8          Pillow  0.704097      1.000000\n9          Laptop  0.282386      0.500000\n10     AlarmClock  0.397934      0.500000\n11             CD  0.500000      0.500000\n12      CellPhone  0.294244      0.400000\n0         Average  0.428098      0.676768"
     },
     "execution_count": 32,
     "metadata": {},
     "output_type": "execute_result"
    }
   ],
   "source": [
    "total_obj_score"
   ]
  },
  {
   "cell_type": "code",
   "execution_count": null,
   "metadata": {},
   "outputs": [],
   "source": []
  }
 ],
 "metadata": {
  "kernelspec": {
   "display_name": "Python 3.8.8 64-bit ('det')",
   "name": "python388jvsc74a57bd03aea6fd0f26cd261b211d2972151b88bffc3b755a4c0dc446f573366dfb327ca"
  },
  "language_info": {
   "codemirror_mode": {
    "name": "ipython",
    "version": 3
   },
   "file_extension": ".py",
   "mimetype": "text/x-python",
   "name": "python",
   "nbconvert_exporter": "python",
   "pygments_lexer": "ipython3",
   "version": "3.8.8"
  },
  "orig_nbformat": 2
 },
 "nbformat": 4,
 "nbformat_minor": 2
}