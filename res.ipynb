{
 "cells": [
  {
   "cell_type": "code",
   "execution_count": 13,
   "metadata": {},
   "outputs": [],
   "source": [
    "import pandas as pd\n",
    "import numpy as np\n",
    "\n",
    "from eval_ithor.objects import total\n",
    "df = pd.read_csv('./res/temp/out.csv')"
   ]
  },
  {
   "cell_type": "code",
   "execution_count": 8,
   "metadata": {},
   "outputs": [
    {
     "data": {
      "text/html": "<div>\n<style scoped>\n    .dataframe tbody tr th:only-of-type {\n        vertical-align: middle;\n    }\n\n    .dataframe tbody tr th {\n        vertical-align: top;\n    }\n\n    .dataframe thead th {\n        text-align: right;\n    }\n</style>\n<table border=\"1\" class=\"dataframe\">\n  <thead>\n    <tr style=\"text-align: right;\">\n      <th></th>\n      <th>Unnamed: 0</th>\n      <th>score</th>\n      <th>query_name</th>\n      <th>scene_type</th>\n    </tr>\n  </thead>\n  <tbody>\n    <tr>\n      <th>0</th>\n      <td>0</td>\n      <td>0.858630</td>\n      <td>Apple</td>\n      <td>train</td>\n    </tr>\n    <tr>\n      <th>1</th>\n      <td>1</td>\n      <td>0.000000</td>\n      <td>Bowl</td>\n      <td>train</td>\n    </tr>\n    <tr>\n      <th>2</th>\n      <td>2</td>\n      <td>0.037896</td>\n      <td>AlarmClock</td>\n      <td>train</td>\n    </tr>\n    <tr>\n      <th>3</th>\n      <td>3</td>\n      <td>0.000000</td>\n      <td>RemoteControl</td>\n      <td>train</td>\n    </tr>\n    <tr>\n      <th>4</th>\n      <td>4</td>\n      <td>0.509731</td>\n      <td>Pillow</td>\n      <td>train</td>\n    </tr>\n    <tr>\n      <th>...</th>\n      <td>...</td>\n      <td>...</td>\n      <td>...</td>\n      <td>...</td>\n    </tr>\n    <tr>\n      <th>88</th>\n      <td>88</td>\n      <td>0.984107</td>\n      <td>Bowl</td>\n      <td>train</td>\n    </tr>\n    <tr>\n      <th>89</th>\n      <td>89</td>\n      <td>0.686443</td>\n      <td>Apple</td>\n      <td>train</td>\n    </tr>\n    <tr>\n      <th>90</th>\n      <td>90</td>\n      <td>0.700985</td>\n      <td>AlarmClock</td>\n      <td>train</td>\n    </tr>\n    <tr>\n      <th>91</th>\n      <td>91</td>\n      <td>0.819726</td>\n      <td>Pillow</td>\n      <td>train</td>\n    </tr>\n    <tr>\n      <th>92</th>\n      <td>92</td>\n      <td>0.000000</td>\n      <td>Mug</td>\n      <td>train</td>\n    </tr>\n  </tbody>\n</table>\n<p>93 rows × 4 columns</p>\n</div>",
      "text/plain": "    Unnamed: 0     score     query_name scene_type\n0            0  0.858630          Apple      train\n1            1  0.000000           Bowl      train\n2            2  0.037896     AlarmClock      train\n3            3  0.000000  RemoteControl      train\n4            4  0.509731         Pillow      train\n..         ...       ...            ...        ...\n88          88  0.984107           Bowl      train\n89          89  0.686443          Apple      train\n90          90  0.700985     AlarmClock      train\n91          91  0.819726         Pillow      train\n92          92  0.000000            Mug      train\n\n[93 rows x 4 columns]"
     },
     "execution_count": 8,
     "metadata": {},
     "output_type": "execute_result"
    }
   ],
   "source": [
    "df"
   ]
  },
  {
   "cell_type": "code",
   "execution_count": 36,
   "metadata": {},
   "outputs": [],
   "source": [
    "obj_score = []\n",
    "\n",
    "for obj in total:\n",
    "    temp = df.loc[df['query_name'] == obj, ['score']]\n",
    "    mean_score = temp.mean().item()\n",
    "    mean_score = np.nan_to_num(mean_score,nan=100)\n",
    "    if mean_score != 100:\n",
    "        success_rate = (temp>0).sum().item()/(len(temp))\n",
    "        obj_score.append(dict(object=obj,SPL=mean_score,success_rate = success_rate ))\n",
    "obj_score = pd.DataFrame(obj_score)"
   ]
  },
  {
   "cell_type": "code",
   "execution_count": 37,
   "metadata": {},
   "outputs": [
    {
     "data": {
      "text/html": "<div>\n<style scoped>\n    .dataframe tbody tr th:only-of-type {\n        vertical-align: middle;\n    }\n\n    .dataframe tbody tr th {\n        vertical-align: top;\n    }\n\n    .dataframe thead th {\n        text-align: right;\n    }\n</style>\n<table border=\"1\" class=\"dataframe\">\n  <thead>\n    <tr style=\"text-align: right;\">\n      <th></th>\n      <th>object</th>\n      <th>SPL</th>\n      <th>success_rate</th>\n    </tr>\n  </thead>\n  <tbody>\n    <tr>\n      <th>0</th>\n      <td>Mug</td>\n      <td>0.158376</td>\n      <td>0.300</td>\n    </tr>\n    <tr>\n      <th>1</th>\n      <td>SprayBottle</td>\n      <td>0.269492</td>\n      <td>0.400</td>\n    </tr>\n    <tr>\n      <th>2</th>\n      <td>Pillow</td>\n      <td>0.728019</td>\n      <td>1.000</td>\n    </tr>\n    <tr>\n      <th>3</th>\n      <td>Pen</td>\n      <td>0.000000</td>\n      <td>0.000</td>\n    </tr>\n    <tr>\n      <th>4</th>\n      <td>Bowl</td>\n      <td>0.371215</td>\n      <td>0.800</td>\n    </tr>\n    <tr>\n      <th>5</th>\n      <td>Apple</td>\n      <td>0.513733</td>\n      <td>0.700</td>\n    </tr>\n    <tr>\n      <th>6</th>\n      <td>AlarmClock</td>\n      <td>0.208026</td>\n      <td>0.500</td>\n    </tr>\n    <tr>\n      <th>7</th>\n      <td>RemoteControl</td>\n      <td>0.153273</td>\n      <td>0.300</td>\n    </tr>\n    <tr>\n      <th>8</th>\n      <td>ButterKnife</td>\n      <td>0.000000</td>\n      <td>0.000</td>\n    </tr>\n    <tr>\n      <th>9</th>\n      <td>Fork</td>\n      <td>0.000000</td>\n      <td>0.000</td>\n    </tr>\n    <tr>\n      <th>10</th>\n      <td>TeddyBear</td>\n      <td>0.860519</td>\n      <td>1.000</td>\n    </tr>\n    <tr>\n      <th>11</th>\n      <td>Book</td>\n      <td>0.206604</td>\n      <td>0.375</td>\n    </tr>\n  </tbody>\n</table>\n</div>",
      "text/plain": "           object       SPL  success_rate\n0             Mug  0.158376         0.300\n1     SprayBottle  0.269492         0.400\n2          Pillow  0.728019         1.000\n3             Pen  0.000000         0.000\n4            Bowl  0.371215         0.800\n5           Apple  0.513733         0.700\n6      AlarmClock  0.208026         0.500\n7   RemoteControl  0.153273         0.300\n8     ButterKnife  0.000000         0.000\n9            Fork  0.000000         0.000\n10      TeddyBear  0.860519         1.000\n11           Book  0.206604         0.375"
     },
     "execution_count": 37,
     "metadata": {},
     "output_type": "execute_result"
    }
   ],
   "source": [
    "obj_score"
   ]
  },
  {
   "cell_type": "code",
   "execution_count": null,
   "metadata": {},
   "outputs": [],
   "source": []
  }
 ],
 "metadata": {
  "kernelspec": {
   "display_name": "Python 3.8.8 64-bit ('det')",
   "name": "python388jvsc74a57bd03aea6fd0f26cd261b211d2972151b88bffc3b755a4c0dc446f573366dfb327ca"
  },
  "language_info": {
   "codemirror_mode": {
    "name": "ipython",
    "version": 3
   },
   "file_extension": ".py",
   "mimetype": "text/x-python",
   "name": "python",
   "nbconvert_exporter": "python",
   "pygments_lexer": "ipython3",
   "version": "3.8.8"
  },
  "orig_nbformat": 2
 },
 "nbformat": 4,
 "nbformat_minor": 2
}