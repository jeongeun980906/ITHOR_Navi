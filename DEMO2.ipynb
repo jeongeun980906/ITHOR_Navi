{
 "cells": [
  {
   "cell_type": "code",
   "execution_count": null,
   "metadata": {},
   "outputs": [],
   "source": [
    "# importing sys\n",
    "import sys\n",
    "\n",
    "# adding Folder_2 to the system path\n",
    "sys.path.insert(0, '/home/jeongeun/test_env/Open-Set-Object-Detection')"
   ]
  },
  {
   "cell_type": "code",
   "execution_count": null,
   "metadata": {},
   "outputs": [],
   "source": [
    "# AI2 THOR\n",
    "# !pkill thor_*\n",
    "import ai2thor\n",
    "from ai2thor.controller import Controller,BFSController\n",
    "from ai2thor.platform import CloudRendering\n",
    "from ithor_tools.vis_tool import *\n",
    "from ithor_tools.transform import cornerpoint_projection,depth2world\n",
    "from ithor_tools.map2 import single_scenemap\n",
    "from ithor_tools.landmark_utils import gather,gather2,vis_panorama,Word_Dict,choose_ladmark, landmark_names\n",
    "from eval_ithor.objects import choose_query_objects,detect\n",
    "\n",
    "from co_occurance.comet_co import co_occurance_score\n",
    "import random\n",
    "import math\n",
    "# from IPython.display import display\n",
    "# from moviepy.editor import ImageSequenceClip,VideoFileClip\n",
    "\n",
    "\n",
    "# Planning Module\n",
    "from RRT import gridmaprrt as rrt\n",
    "from RRT import gridmaprrt_pathsmoothing as smoothing\n",
    "\n",
    "from FBE.memory import fbe_map\n",
    "from FBE.schedular import traj_schedular"
   ]
  },
  {
   "cell_type": "code",
   "execution_count": null,
   "metadata": {},
   "outputs": [],
   "source": [
    "# Detector module\n",
    "from data.phase_1 import load_voc_instances,VOC_CLASS_NAMES\n",
    "import torch\n",
    "import cv2\n",
    "import copy\n",
    "import matplotlib.pyplot as plt\n",
    "from structures.box import Boxes\n",
    "from engine.predictor import DefaultPredictor\n",
    "\n",
    "from  config.config import get_cfg\n",
    "from model.rcnn import GeneralizedRCNN\n",
    "from detector.postprocess import postprocess,plot_openset,plot_candidate\n",
    "\n",
    "## Matching Module\n",
    "from detector.query_matching import matcher"
   ]
  },
  {
   "cell_type": "code",
   "execution_count": null,
   "metadata": {},
   "outputs": [],
   "source": [
    "'''\n",
    "config file\n",
    "'''\n",
    "\n",
    "print(torch.cuda.device_count())\n",
    "torch.cuda.set_device(0)\n",
    "print(torch.cuda.current_device())\n",
    "cfg = get_cfg()\n",
    "cfg.merge_from_file('../Open-Set-Object-Detection/config_files/voc.yaml')\n",
    "cfg.MODEL.SAVE_IDX=19 #22\n",
    "cfg.MODEL.RPN.USE_MDN=False\n",
    "cfg.log = False \n",
    "cfg.MODEL.ROI_HEADS.USE_MLN = True\n",
    "cfg.MODEL.ROI_HEADS.AUTO_LABEL = False\n",
    "cfg.MODEL.ROI_HEADS.AF = 'baseline'\n",
    "cfg.MODEL.RPN.AUTO_LABEL = False\n",
    "cfg.MODEL.ROI_BOX_HEAD.USE_FD = False\n",
    "cfg.MODEL.RPN.AUTO_LABEL_TYPE = 'sum'\n",
    "cfg.MODEL.ROI_HEADS.NUM_CLASSES = 21\n",
    "cfg.INPUT.RANDOM_FLIP = \"none\"\n",
    "cfg.MODEL.ROI_HEADS.UNCT = True\n",
    "cfg.MODEL.ROI_HEADS.NMS_THRESH_TEST = 0.2\n",
    "cfg.PATH = '../Open-Set-Object-Detection'\n",
    "cfg.phase = 'voc'\n",
    "# cfg.merge_from_list(args.opts)\n",
    "RPN_NAME = 'mdn' if cfg.MODEL.RPN.USE_MDN else 'base'\n",
    "ROI_NAME = 'mln' if cfg.MODEL.ROI_HEADS.USE_MLN else 'base'\n",
    "MODEL_NAME = RPN_NAME + ROI_NAME\n",
    "# cfg.merge_from_list(args.opts)\n",
    "cfg.freeze()\n",
    "# wandb.init(config=cfg,tags= 'temp',name = 'temp',project='temp')"
   ]
  },
  {
   "cell_type": "code",
   "execution_count": null,
   "metadata": {},
   "outputs": [],
   "source": [
    "device = 'cuda:1'\n",
    "model = GeneralizedRCNN(cfg,device = device).to(device)\n",
    "state_dict = torch.load('../Open-Set-Object-Detection/ckpt/{}/{}_{}_15000.pt'.format(cfg.MODEL.ROI_HEADS.AF,cfg.MODEL.SAVE_IDX,MODEL_NAME),map_location=device)\n",
    "pretrained_dict = {k: v for k, v in state_dict.items() if k in model.state_dict()}\n",
    "model.load_state_dict(pretrained_dict)\n",
    "\n",
    "predictor = DefaultPredictor(cfg,model)"
   ]
  },
  {
   "cell_type": "code",
   "execution_count": null,
   "metadata": {},
   "outputs": [],
   "source": [
    "gridSize=0.05\n",
    "scene_name = \"FloorPlan_Val1_4\"\n",
    "controller = Controller(\n",
    "    agentMode=\"locobot\",\n",
    "    platform=CloudRendering,\n",
    "    visibilityDistance=1.5,\n",
    "    scene = scene_name,\n",
    "    gridSize=gridSize,\n",
    "    movementGaussianSigma=0,\n",
    "    rotateStepDegrees=90,\n",
    "    rotateGaussianSigma=0,\n",
    "    renderClassImage = True,\n",
    "    renderDepthImage=False,\n",
    "    renderInstanceSegmentation=False,\n",
    "    width=300,\n",
    "    height=300,\n",
    "    fieldOfView=60\n",
    ")"
   ]
  },
  {
   "cell_type": "code",
   "execution_count": null,
   "metadata": {},
   "outputs": [],
   "source": [
    "controller.reset(\n",
    "    # makes the images a bit higher quality\n",
    "    width=800,\n",
    "    height=800,\n",
    "\n",
    "    # Renders several new image modalities\n",
    "    renderDepthImage=True,\n",
    "    renderClassImage = True,\n",
    "    renderSemanticSegmentation=False,\n",
    "    renderNormalsImage=False\n",
    ")\n",
    "scene_bounds = controller.last_event.metadata['sceneBounds']['center']\n",
    "controller.step(\n",
    "    action=\"AddThirdPartyCamera\",\n",
    "    position=dict(x=scene_bounds['x'], y=5.0, z=scene_bounds['z']),\n",
    "    rotation=dict(x=90, y=0, z=0),\n",
    "    orthographic=True,\n",
    "    orthographicSize= 5.0, fieldOfView=100,\n",
    "    skyboxColor=\"white\"\n",
    ")\n",
    "controller.step(dict(action='GetReachablePositions'))\n",
    "rstate = controller.last_event.metadata['actionReturn']\n",
    "\n",
    "controller.step(\n",
    "    action=\"Teleport\",\n",
    "    position = rstate[100],\n",
    "    rotation = dict(x=0,y=0,z=0)\n",
    ")\n",
    "\n",
    "pos = controller.last_event.metadata['agent']['position']\n",
    "pos = [pos['x'],pos['z']]\n",
    "objects = controller.last_event.metadata['objects']"
   ]
  },
  {
   "cell_type": "code",
   "execution_count": null,
   "metadata": {},
   "outputs": [],
   "source": [
    "df = show_objects_table(objects)\n",
    "df"
   ]
  },
  {
   "cell_type": "code",
   "execution_count": null,
   "metadata": {},
   "outputs": [],
   "source": [
    "query_object = objects[13]"
   ]
  },
  {
   "cell_type": "code",
   "execution_count": null,
   "metadata": {},
   "outputs": [],
   "source": [
    "landmark_cat = [Word_Dict[l] for l in landmark_names]\n",
    "co_occurance_scoring = co_occurance_score('cuda:0')\n",
    "co_occurance_scoring.landmark_init(landmark_cat)\n"
   ]
  },
  {
   "cell_type": "code",
   "execution_count": null,
   "metadata": {},
   "outputs": [],
   "source": [
    "co_occurance = co_occurance_scoring.score(query_object['objectType'])"
   ]
  },
  {
   "cell_type": "code",
   "execution_count": null,
   "metadata": {},
   "outputs": [],
   "source": [
    "scene_bounds = controller.last_event.metadata['sceneBounds']['cornerPoints']\n",
    "scene_bounds = cornerpoint_projection(scene_bounds)\n"
   ]
  },
  {
   "cell_type": "code",
   "execution_count": null,
   "metadata": {},
   "outputs": [],
   "source": [
    "scene_memory = fbe_map(scene_bounds,rstate,landmark_names=landmark_names, stepsize=0.1)\n",
    "sche = traj_schedular(landmark_names,controller)\n",
    "sche.set_score(co_occurance)"
   ]
  },
  {
   "cell_type": "code",
   "execution_count": null,
   "metadata": {},
   "outputs": [],
   "source": [
    "VOC_CLASS_NAMES = (\n",
    "    \"aeroplane\", \"bicycle\", \"bird\", \"boat\", \"bottle\", \"bus\", \"car\", \"cat\",\n",
    "    \"chair\", \"cow\", \"diningtable\", \"dog\", \"horse\", \"motorbike\", \"person\",\n",
    "    \"pottedplant\", \"sheep\", \"sofa\", \"train\", \"tvmonitor\", 'unknown'\n",
    ")"
   ]
  },
  {
   "cell_type": "code",
   "execution_count": null,
   "metadata": {},
   "outputs": [],
   "source": [
    "visible_landmark_names = ['Bed', 'DiningTable', 'StoveBurner', 'Desk','Drawer','Television','Sofa','SideTable','CoffeeTable','ArmChair',]"
   ]
  },
  {
   "cell_type": "code",
   "execution_count": null,
   "metadata": {},
   "outputs": [],
   "source": [
    "clip_matcher = matcher(visible_landmark_names,device='cuda:0')\n",
    "clip_matcher.tokenize(query_object['objectType'])\n"
   ]
  },
  {
   "cell_type": "code",
   "execution_count": null,
   "metadata": {},
   "outputs": [],
   "source": [
    "controller.step(\n",
    "    action=\"Teleport\",\n",
    "    position = rstate[100],\n",
    "    rotation = dict(x=0,y=0,z=0)\n",
    ")"
   ]
  },
  {
   "cell_type": "code",
   "execution_count": null,
   "metadata": {},
   "outputs": [],
   "source": [
    "from eval_ithor.reset import get_min_dis\n",
    "\n",
    "min_dis = get_min_dis(query_object,controller,None,None)\n",
    "print(min_dis)"
   ]
  },
  {
   "cell_type": "code",
   "execution_count": null,
   "metadata": {},
   "outputs": [],
   "source": [
    "rrtplanner = rrt.RRT(controller = controller, expand_dis=0.1,max_iter=10000,goal_sample_rate=20)\n",
    "d2w = depth2world()"
   ]
  },
  {
   "cell_type": "code",
   "execution_count": null,
   "metadata": {},
   "outputs": [],
   "source": [
    "total_patch = np.zeros((0,256,256,3),dtype=np.uint8)\n",
    "total_mappoints = []\n",
    "total_success = 0\n",
    "total_path_len = 0\n",
    "\n",
    "frames,single_pos,gt_boxes,gt_vis,detected_landmarks = gather2(controller,[query_object['objectId']],\n",
    "                        predictor,postprocess,clip_matcher,\n",
    "        visible_landmark_names,scene_memory,show=True)\n",
    "print('gt_vis?',gt_vis)\n",
    "candidate_patches, candidate_map_points,sucesses = detect(frames,single_pos,gt_boxes,controller,predictor,clip_matcher,d2w)\n",
    "\n",
    "total_patch = np.concatenate((total_patch,candidate_patches),axis=0)\n",
    "total_mappoints += candidate_map_points\n",
    "total_success += sucesses\n",
    "vis_panorama(frames,res=360)\n",
    "scene_memory.visited(controller)\n",
    "landmark_config = dict(name=landmark_names,color = scene_memory.landmark_colors)\n",
    "cpos = controller.last_event.metadata['agent']['position']\n",
    "candidate_trajs = []\n",
    "for l in detected_landmarks:\n",
    "    res = scene_memory.get_reachable(cpos,l)\n",
    "    if not res[0] == None:\n",
    "        res = dict(name=l,pos=res[0],rot = res[1])\n",
    "        candidate_trajs.append(res)\n",
    "waypoints = scene_memory.frontier_detection(cpos)\n",
    "candidate_trajs += waypoints\n",
    "\n",
    "\n",
    "cpos = controller.last_event.metadata['agent']['position']\n",
    "imshow_grid = scene_memory.plot(controller.last_event.metadata['agent']['position'],candidate_trajs,query_object['position'])\n",
    "plot_frames2(controller.last_event,imshow_grid,landmark_config)     "
   ]
  },
  {
   "cell_type": "code",
   "execution_count": null,
   "metadata": {},
   "outputs": [],
   "source": [
    "traj_image = controller.last_event.third_party_camera_frames[0]"
   ]
  },
  {
   "cell_type": "code",
   "execution_count": null,
   "metadata": {},
   "outputs": [],
   "source": [
    "\n",
    "NUM_WAYPOINT = 0\n",
    "def draw_path(rrt,traj_image,path):\n",
    "    traj_image = np.ascontiguousarray(traj_image, dtype=np.uint8)\n",
    "    for idx in range(len(path)-1):\n",
    "        prev_xz = rrt.rstate[path[idx]]\n",
    "        next_xz = rrt.rstate[path[idx+1]]\n",
    "        prev_w,prev_h = rrt.play_area.xz2coor(prev_xz[0],prev_xz[1])\n",
    "        next_w,next_h = rrt.play_area.xz2coor(next_xz[0],next_xz[1])\n",
    "        cv2.line(traj_image, (int(prev_w),int(prev_h)), (int(next_w),int(next_h)), (0,255,255), 2)\n",
    "    # plt.imshow(traj_image)\n",
    "    # plt.plot(path_wh[:,0], path_wh[:,1],'-c')\n",
    "\n",
    "    # Cast start&end point coordinate in image\n",
    "    # startx, startz = (rrt.start.x), (rrt.start.z)\n",
    "    endx,   endz   = (rrt.end.x), (rrt.end.z)\n",
    "    \n",
    "    # startx, startz = rrt.play_area.xz2coor(startx, startz )\n",
    "    endx,   endz   = rrt.play_area.xz2coor(endx,   endz   )\n",
    "    \n",
    "    # plt.plot(startx, startz,\"xr\")\n",
    "    cv2.circle(traj_image, (int(endx),int(endz)), 5, (255,0,255), thickness=5)\n",
    "    cv2.putText(traj_image, str(NUM_WAYPOINT), (int(endx),int(endz)), cv2.FONT_HERSHEY_SIMPLEX, 1, (0,0,0), 2)\n",
    "    # plt.plot(endx, endz, \"xr\")\n",
    "    plt.imshow(traj_image)\n",
    "    plt.show()\n",
    "    return traj_image\n"
   ]
  },
  {
   "cell_type": "code",
   "execution_count": null,
   "metadata": {},
   "outputs": [],
   "source": [
    "angle = 60\n",
    "step = 3\n",
    "while not total_success:\n",
    "    cpos = controller.last_event.metadata['agent']['position']\n",
    "    path = sche.schedule(cpos,0,candidate_trajs)\n",
    "    print(path)\n",
    "    for p in path[1:]:\n",
    "        if p == None:\n",
    "            scene_memory.reset_gridmap()\n",
    "            print('expolaration done')\n",
    "            break\n",
    "        # print(p)\n",
    "        pos = controller.last_event.metadata['agent']['position']\n",
    "        rrtplanner.set_start(pos)\n",
    "        rrtplanner.set_goal(p['pos'])\n",
    "        print(\"start planning\")\n",
    "        local_path = rrtplanner.planning(animation=False)\n",
    "        try:\n",
    "            smoothpath = smoothing.path_smoothing(rrtplanner,40,verbose=False)\n",
    "        except:\n",
    "            smoothpath = local_path\n",
    "        to_pos = rrtplanner.rstate[smoothpath[-1]]\n",
    "        # rrtplanner.plot_path(smoothpath)\n",
    "        NUM_WAYPOINT +=1\n",
    "        traj_image = draw_path(rrtplanner,traj_image,smoothpath)\n",
    "        print(\"end planning\")\n",
    "        flag,path_len,frames = rrtplanner.go_with_teleport(smoothpath,maxspeed=0.2)\n",
    "        print(\"end move\")\n",
    "        total_path_len += path_len\n",
    "        if p['name'] == 'frontier':\n",
    "            # controller.step(\n",
    "            # action=\"Teleport\",\n",
    "            # position = dict(x=to_pos[0],y=0.91,z=to_pos[1]), rotation = dict(x=0,y=0,z=0)\n",
    "            #     )\n",
    "            # print(controller.last_event.metadata['lastActionSuccess'])\n",
    "            scene_memory.reset_landmark(detected_landmarks)\n",
    "            frames,single_pos,gt_boxes,gt_vis,detected_landmarks = gather2(controller,[query_object['objectId']],\n",
    "                        predictor,postprocess,clip_matcher,\n",
    "                    visible_landmark_names,scene_memory,show=True)\n",
    "            print('gt_vis?',gt_vis)\n",
    "            candidate_patches, candidate_map_points,sucesses = detect(frames,single_pos,gt_boxes,controller,predictor,clip_matcher,d2w)\n",
    "            total_patch = np.concatenate((total_patch,candidate_patches),axis=0)\n",
    "            total_mappoints += candidate_map_points\n",
    "            total_success += sucesses\n",
    "            vis_panorama(frames,res=360)\n",
    "\n",
    "            scene_memory.visited(controller)\n",
    "            landmark_config = dict(name=landmark_names,color = scene_memory.landmark_colors)\n",
    "            cpos = controller.last_event.metadata['agent']['position']\n",
    "            candidate_trajs = []\n",
    "            for l in detected_landmarks:\n",
    "                res = scene_memory.get_reachable(cpos,l)\n",
    "                if not res[0] == None:\n",
    "                    res = dict(name=l,pos=res[0],rot = res[1])\n",
    "                    candidate_trajs.append(res)\n",
    "            waypoints = scene_memory.frontier_detection(cpos)\n",
    "            candidate_trajs += waypoints\n",
    "        else:\n",
    "            pos = controller.last_event.metadata['agent']['position']\n",
    "            controller.step(\n",
    "                action=\"Teleport\",\n",
    "                position = pos, rotation = dict(x=0,y=p['rot']-angle/2,z=0)\n",
    "                    )\n",
    "            print(controller.last_event.metadata['lastActionSuccess'])\n",
    "            imshow_grid = scene_memory.plot(controller.last_event.metadata['agent']['position'],candidate_trajs,query_object['position'])\n",
    "            plot_frames2(controller.last_event,imshow_grid,landmark_config)\n",
    "            frames, single_pos,gt_boxes,gt_vis = gather(controller,[query_object['objectId']],step=step,angle=angle)\n",
    "            print('gt_vis?',gt_vis)\n",
    "            candidate_patches, candidate_map_points,sucesses = detect(frames,single_pos,gt_boxes,controller,predictor,clip_matcher,d2w)\n",
    "            total_patch = np.concatenate((total_patch,candidate_patches),axis=0)\n",
    "            total_mappoints += candidate_map_points\n",
    "            total_success += sucesses\n",
    "            vis_panorama(frames,res=angle)\n",
    "            \n",
    "        cpos = controller.last_event.metadata['agent']['position']\n",
    "        imshow_grid = scene_memory.plot(controller.last_event.metadata['agent']['position'],candidate_trajs,query_object['position'])\n",
    "        plot_frames2(controller.last_event,imshow_grid,landmark_config)  \n",
    "        if total_success:\n",
    "            break      \n"
   ]
  },
  {
   "cell_type": "code",
   "execution_count": null,
   "metadata": {},
   "outputs": [],
   "source": [
    "img = controller.last_event.cv2img\n",
    "pred = predictor(img)\n",
    "pred_boxes, pred_classes,_ = postprocess(pred)\n",
    "plot_openset(img,pred_boxes,pred_classes,visible_landmark_names)"
   ]
  },
  {
   "cell_type": "code",
   "execution_count": null,
   "metadata": {},
   "outputs": [],
   "source": [
    "cpos = controller.last_event.metadata['agent']['position']\n",
    "imshow_grid = scene_memory.plot(controller.last_event.metadata['agent']['position'],candidate_trajs,query_object['position'])\n",
    "plot_frames2(controller.last_event,imshow_grid,landmark_config)  \n",
    "\n",
    "print(\"Sucess?\",total_success>0)\n",
    "print(\"Total Path Length\", total_path_len)\n",
    "SPL = (total_success>0)*min_dis/total_path_len\n",
    "print(\"SPL:\",SPL )\n",
    "plot_candidate(total_patch,total_mappoints,query_object['objectType'],scene_memory)"
   ]
  },
  {
   "cell_type": "code",
   "execution_count": null,
   "metadata": {},
   "outputs": [],
   "source": [
    "# controller.stop_unity()"
   ]
  },
  {
   "cell_type": "code",
   "execution_count": null,
   "metadata": {},
   "outputs": [],
   "source": [
    "size = len(total_patch)\n",
    "plt.figure(figsize=(3*size,5))\n",
    "plt.suptitle(\"Candidate Image of [{}]\".format(query_object['objectType']))\n",
    "for e, (patch,point) in enumerate(zip(total_patch,total_mappoints)):\n",
    "    map = scene_memory.grid_map.copy()\n",
    "    new_grid = scene_memory.xyz2grid(point)\n",
    "    try:\n",
    "        map[new_grid[0],new_grid[1],:] = [1,0.5,1]\n",
    "    except:\n",
    "        pass\n",
    "    plt.subplot(2,size,e+1)\n",
    "    plt.imshow(patch)\n",
    "    plt.axis('off')\n",
    "\n",
    "    plt.subplot(2,size,e+size+1)\n",
    "    map = np.rot90(map)\n",
    "    plt.imshow(map)\n",
    "    plt.axis('off')\n",
    "# plt.savefig('temp.png')\n",
    "plt.show()"
   ]
  },
  {
   "cell_type": "code",
   "execution_count": null,
   "metadata": {},
   "outputs": [],
   "source": [
    "controller.stop_unity()"
   ]
  }
 ],
 "metadata": {
  "interpreter": {
   "hash": "fc7b75c948a016bde1fa94b064e92e980ae852ecbf5a54007f63176ab55ebd6d"
  },
  "kernelspec": {
   "display_name": "Python 3.8.8 64-bit ('ai2thor_test')",
   "language": "python",
   "name": "python3"
  },
  "language_info": {
   "codemirror_mode": {
    "name": "ipython",
    "version": 3
   },
   "file_extension": ".py",
   "mimetype": "text/x-python",
   "name": "python",
   "nbconvert_exporter": "python",
   "pygments_lexer": "ipython3",
   "version": "3.8.8"
  },
  "orig_nbformat": 4
 },
 "nbformat": 4,
 "nbformat_minor": 2
}
